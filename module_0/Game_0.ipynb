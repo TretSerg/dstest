{
 "cells": [
  {
   "cell_type": "markdown",
   "metadata": {},
   "source": [
    "Игра вариант простой - толко автомат\n",
    "Алгоритм:\n",
    "загадываем число из интервала от 1 до 100.\n",
    "В процессе угадывания выбираем число находящееся по середине интервала."
   ]
  },
  {
   "cell_type": "code",
   "execution_count": 1,
   "metadata": {},
   "outputs": [],
   "source": [
    "import numpy as np\n",
    "\n",
    "def game_core_v2(number):\n",
    "    '''Сначала устанавливаем любое random число, а потом уменьшаем или увеличиваем его в зависимости от того, больше оно или меньше нужного.\n",
    "       Функция принимает загаданное число и возвращает число попыток'''\n",
    "    count = 1 # счетчик попыток\n",
    "    predict = (101-1)//2 # Выбираем число равное половине интервала\n",
    "    while number != predict:\n",
    "        count+=1\n",
    "        if number > predict: \n",
    "            predict = predict+(number-predict)//2+1 # выбираем число равное половине интервала +1\n",
    "        elif number < predict: \n",
    "            predict = predict-(predict-number)//2-1 # выбираем число равное половине интервала -1\n",
    "    return(count) # выход из функци, если угадали\n",
    "        \n",
    "def score_game(game_core):\n",
    "    '''Запускаем игру 1000 раз, чтобы узнать, как быстро игра угадывает число'''\n",
    "    count_ls = []\n",
    "    np.random.seed(1)  # фиксируем RANDOM SEED, чтобы ваш эксперимент был воспроизводим!\n",
    "    random_array = np.random.randint(1,101, size=(1000))\n",
    "    for number in random_array:\n",
    "        count_ls.append(game_core_v2(number))\n",
    "    score = int(np.mean(count_ls))\n",
    "    print(f\"Ваш алгоритм угадывает число в среднем за {score} попыток\")\n",
    "    return(score)"
   ]
  },
  {
   "cell_type": "code",
   "execution_count": 2,
   "metadata": {},
   "outputs": [
    {
     "name": "stdout",
     "output_type": "stream",
     "text": [
      "Ваш алгоритм угадывает число в среднем за 4 попыток\n"
     ]
    },
    {
     "data": {
      "text/plain": [
       "4"
      ]
     },
     "execution_count": 2,
     "metadata": {},
     "output_type": "execute_result"
    }
   ],
   "source": [
    "score_game(game_core_v2)"
   ]
  },
  {
   "cell_type": "markdown",
   "metadata": {},
   "source": [
    "Игра вариант 2:\n",
    "    узнаем намерение пользователя: играт сам или тестим АИ))\n",
    "    если играет сам: запрашиваем число и далее по алгоритму\n",
    "    если тестим АИ: используем функцию из предыдущего решения"
   ]
  },
  {
   "cell_type": "code",
   "execution_count": 3,
   "metadata": {},
   "outputs": [
    {
     "name": "stdout",
     "output_type": "stream",
     "text": [
      "Желаете играть сами (Да) или потестим АИ ((Нет))y\n",
      "Тестим АИ\n",
      "Ваш алгоритм угадывает число в среднем за 4 попыток\n"
     ]
    }
   ],
   "source": [
    "import numpy as np\n",
    "\n",
    "def game_core_v2(number):\n",
    "    '''Сначала устанавливаем любое random число, а потом уменьшаем или увеличиваем его в зависимости от того, больше оно или меньше нужного.\n",
    "       Функция принимает загаданное число и возвращает число попыток'''\n",
    "    count = 1 # счетчик попыток\n",
    "    predict = (101-1)//2 # Выбираем число равное половине интервала\n",
    "\n",
    "    while number != predict:\n",
    "        count+=1\n",
    "        if number > predict: \n",
    "            predict = predict+(number-predict)//2+1 # выбираем число равное половине интервала +1\n",
    "        elif number < predict: \n",
    "            predict = predict-(predict-number)//2-1 # выбираем число равное половине интервала -1\n",
    "\n",
    "    return(count) # выход из функци, если угадали\n",
    "\n",
    "\n",
    "def score_game(game_core):\n",
    "    '''Запускаем игру 1000 раз, чтобы узнать, как быстро игра угадывает число'''\n",
    "    count_ls = []\n",
    "    np.random.seed(1)  # фиксируем RANDOM SEED, чтобы ваш эксперимент был воспроизводим!\n",
    "    random_array = np.random.randint(1,101, size=(1000))\n",
    "\n",
    "    for number in random_array:\n",
    "        count_ls.append(game_core_v2(number))\n",
    "    score = int(np.mean(count_ls))\n",
    "\n",
    "    print(\"Ваш алгоритм угадывает число в среднем за {} попыток\".format(score))\n",
    "    return(score)\n",
    "\n",
    "\"\"\" Основное тело программы выбор вида игры, вызовы основных функций \"\"\"\n",
    "if input(\"Желаете играть сами (Да) или потестим АИ ((Нет))\") == \"Да\":\n",
    "    print (\"Играем с компьютером\")\n",
    "    count = 0                            # счетчик попыток\n",
    "    number = np.random.randint(1,101)    # загадали число\n",
    "    print (\"Загадано число от 1 до 100\")\n",
    "\n",
    "    while True:                        # бесконечный цикл\n",
    "        predict = int(input())         # предполагаемое число\n",
    "        count += 1                     # плюсуем попытку\n",
    "        if number == predict: break    # выход из цикла, если угадали\n",
    "        elif number > predict: print (f\"Угадываемое число больше {predict} \")\n",
    "        elif number < predict: print (f\"Угадываемое число меньше {predict} \")\n",
    "        \n",
    "    print (f\"Вы угадали число {number} за {count} попыток.\")\n",
    "else:\n",
    "    print (\"Тестим АИ\")\n",
    "    print (\"Запускаем игру 1000 раз, чтобы узнать, как быстро игра угадывает число\")\n",
    "    \n",
    "    score_game(game_core_v2)"
   ]
  },
  {
   "cell_type": "code",
   "execution_count": null,
   "metadata": {},
   "outputs": [],
   "source": []
  }
 ],
 "metadata": {
  "kernelspec": {
   "display_name": "Python 3",
   "language": "python",
   "name": "python3"
  },
  "language_info": {
   "codemirror_mode": {
    "name": "ipython",
    "version": 3
   },
   "file_extension": ".py",
   "mimetype": "text/x-python",
   "name": "python",
   "nbconvert_exporter": "python",
   "pygments_lexer": "ipython3",
   "version": "3.7.6"
  }
 },
 "nbformat": 4,
 "nbformat_minor": 4
}
