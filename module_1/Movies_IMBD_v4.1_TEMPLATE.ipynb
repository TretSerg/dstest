{
 "cells": [
  {
   "cell_type": "code",
   "execution_count": 8,
   "metadata": {
    "_cell_guid": "b1076dfc-b9ad-4769-8c92-a6c4dae69d19",
    "_uuid": "8f2839f25d086af736a60e9eeb907d3b93b6e0e5",
    "colab": {},
    "colab_type": "code",
    "id": "U2D2gTdJVp90"
   },
   "outputs": [],
   "source": [
    "import numpy as np\n",
    "import pandas as pd\n",
    "import seaborn as sns\n",
    "import matplotlib.pyplot as plt\n",
    "from collections import Counter\n",
    "from itertools import combinations\n",
    "\n",
    "import warnings\n",
    "warnings.filterwarnings('ignore')"
   ]
  },
  {
   "cell_type": "code",
   "execution_count": 5,
   "metadata": {
    "_cell_guid": "79c7e3d0-c299-4dcb-8224-4455121ee9b0",
    "_uuid": "d629ff2d2480ee46fbb7e2d37f6b5fab8052498a",
    "colab": {},
    "colab_type": "code",
    "id": "oyGfxL3eVp9-"
   },
   "outputs": [
    {
     "data": {
      "text/html": [
       "<div>\n",
       "<style scoped>\n",
       "    .dataframe tbody tr th:only-of-type {\n",
       "        vertical-align: middle;\n",
       "    }\n",
       "\n",
       "    .dataframe tbody tr th {\n",
       "        vertical-align: top;\n",
       "    }\n",
       "\n",
       "    .dataframe thead th {\n",
       "        text-align: right;\n",
       "    }\n",
       "</style>\n",
       "<table border=\"1\" class=\"dataframe\">\n",
       "  <thead>\n",
       "    <tr style=\"text-align: right;\">\n",
       "      <th></th>\n",
       "      <th>imdb_id</th>\n",
       "      <th>budget</th>\n",
       "      <th>revenue</th>\n",
       "      <th>original_title</th>\n",
       "      <th>cast</th>\n",
       "      <th>director</th>\n",
       "      <th>tagline</th>\n",
       "      <th>overview</th>\n",
       "      <th>runtime</th>\n",
       "      <th>genres</th>\n",
       "      <th>production_companies</th>\n",
       "      <th>release_date</th>\n",
       "      <th>vote_average</th>\n",
       "      <th>release_year</th>\n",
       "    </tr>\n",
       "  </thead>\n",
       "  <tbody>\n",
       "    <tr>\n",
       "      <th>502</th>\n",
       "      <td>tt0243155</td>\n",
       "      <td>25000000</td>\n",
       "      <td>281929795</td>\n",
       "      <td>Bridget Jones's Diary</td>\n",
       "      <td>RenÃ©e Zellweger|Colin Firth|Hugh Grant|Gemma ...</td>\n",
       "      <td>Sharon Maguire</td>\n",
       "      <td>Health Warning: Adopting Bridget's lifestyle c...</td>\n",
       "      <td>Bridget Jonesâ€™s Diary is a romantic love sto...</td>\n",
       "      <td>97</td>\n",
       "      <td>Comedy|Romance|Drama</td>\n",
       "      <td>Miramax Films|Universal Pictures|Studio Canal|...</td>\n",
       "      <td>4/13/2001</td>\n",
       "      <td>6.5</td>\n",
       "      <td>2001</td>\n",
       "    </tr>\n",
       "    <tr>\n",
       "      <th>649</th>\n",
       "      <td>tt0960731</td>\n",
       "      <td>80000000</td>\n",
       "      <td>212874442</td>\n",
       "      <td>Bedtime Stories</td>\n",
       "      <td>Adam Sandler|Keri Russell|Guy Pearce|Courteney...</td>\n",
       "      <td>Adam Shankman</td>\n",
       "      <td>Whatever they dream up... he has to survive.</td>\n",
       "      <td>Skeeter Bronson is a down-on-his-luck guy who'...</td>\n",
       "      <td>99</td>\n",
       "      <td>Fantasy|Comedy|Family|Romance</td>\n",
       "      <td>Walt Disney Pictures|Happy Madison Productions...</td>\n",
       "      <td>12/24/2008</td>\n",
       "      <td>5.8</td>\n",
       "      <td>2008</td>\n",
       "    </tr>\n",
       "    <tr>\n",
       "      <th>635</th>\n",
       "      <td>tt0800039</td>\n",
       "      <td>30000000</td>\n",
       "      <td>105173115</td>\n",
       "      <td>Forgetting Sarah Marshall</td>\n",
       "      <td>Jason Segel|Kristen Bell|Mila Kunis|Russell Br...</td>\n",
       "      <td>Nicholas Stoller</td>\n",
       "      <td>You lose some, you get some.</td>\n",
       "      <td>When Sarah Marshall dumps aspiring musician Pe...</td>\n",
       "      <td>111</td>\n",
       "      <td>Comedy|Romance|Drama</td>\n",
       "      <td>Universal Pictures|Apatow Productions</td>\n",
       "      <td>4/17/2008</td>\n",
       "      <td>6.3</td>\n",
       "      <td>2008</td>\n",
       "    </tr>\n",
       "    <tr>\n",
       "      <th>371</th>\n",
       "      <td>tt1228705</td>\n",
       "      <td>200000000</td>\n",
       "      <td>623933331</td>\n",
       "      <td>Iron Man 2</td>\n",
       "      <td>Robert Downey Jr.|Gwyneth Paltrow|Don Cheadle|...</td>\n",
       "      <td>Jon Favreau</td>\n",
       "      <td>It's not the armor that makes the hero, but th...</td>\n",
       "      <td>With the world now aware of his dual life as t...</td>\n",
       "      <td>124</td>\n",
       "      <td>Adventure|Action|Science Fiction</td>\n",
       "      <td>Marvel Studios</td>\n",
       "      <td>4/28/2010</td>\n",
       "      <td>6.6</td>\n",
       "      <td>2010</td>\n",
       "    </tr>\n",
       "    <tr>\n",
       "      <th>933</th>\n",
       "      <td>tt0265459</td>\n",
       "      <td>12000000</td>\n",
       "      <td>52223306</td>\n",
       "      <td>One Hour Photo</td>\n",
       "      <td>Robin Williams|Connie Nielsen|Michael Vartan|E...</td>\n",
       "      <td>Mark Romanek</td>\n",
       "      <td>The things that we fear the most have already ...</td>\n",
       "      <td>Sy \"the photo guy\" Parrish has lovingly develo...</td>\n",
       "      <td>96</td>\n",
       "      <td>Horror|Thriller</td>\n",
       "      <td>Fox Searchlight Pictures|Catch 23 Entertainment</td>\n",
       "      <td>8/21/2002</td>\n",
       "      <td>6.4</td>\n",
       "      <td>2002</td>\n",
       "    </tr>\n",
       "  </tbody>\n",
       "</table>\n",
       "</div>"
      ],
      "text/plain": [
       "       imdb_id     budget    revenue             original_title  \\\n",
       "502  tt0243155   25000000  281929795      Bridget Jones's Diary   \n",
       "649  tt0960731   80000000  212874442            Bedtime Stories   \n",
       "635  tt0800039   30000000  105173115  Forgetting Sarah Marshall   \n",
       "371  tt1228705  200000000  623933331                 Iron Man 2   \n",
       "933  tt0265459   12000000   52223306             One Hour Photo   \n",
       "\n",
       "                                                  cast          director  \\\n",
       "502  RenÃ©e Zellweger|Colin Firth|Hugh Grant|Gemma ...    Sharon Maguire   \n",
       "649  Adam Sandler|Keri Russell|Guy Pearce|Courteney...     Adam Shankman   \n",
       "635  Jason Segel|Kristen Bell|Mila Kunis|Russell Br...  Nicholas Stoller   \n",
       "371  Robert Downey Jr.|Gwyneth Paltrow|Don Cheadle|...       Jon Favreau   \n",
       "933  Robin Williams|Connie Nielsen|Michael Vartan|E...      Mark Romanek   \n",
       "\n",
       "                                               tagline  \\\n",
       "502  Health Warning: Adopting Bridget's lifestyle c...   \n",
       "649       Whatever they dream up... he has to survive.   \n",
       "635                       You lose some, you get some.   \n",
       "371  It's not the armor that makes the hero, but th...   \n",
       "933  The things that we fear the most have already ...   \n",
       "\n",
       "                                              overview  runtime  \\\n",
       "502  Bridget Jonesâ€™s Diary is a romantic love sto...       97   \n",
       "649  Skeeter Bronson is a down-on-his-luck guy who'...       99   \n",
       "635  When Sarah Marshall dumps aspiring musician Pe...      111   \n",
       "371  With the world now aware of his dual life as t...      124   \n",
       "933  Sy \"the photo guy\" Parrish has lovingly develo...       96   \n",
       "\n",
       "                               genres  \\\n",
       "502              Comedy|Romance|Drama   \n",
       "649     Fantasy|Comedy|Family|Romance   \n",
       "635              Comedy|Romance|Drama   \n",
       "371  Adventure|Action|Science Fiction   \n",
       "933                   Horror|Thriller   \n",
       "\n",
       "                                  production_companies release_date  \\\n",
       "502  Miramax Films|Universal Pictures|Studio Canal|...    4/13/2001   \n",
       "649  Walt Disney Pictures|Happy Madison Productions...   12/24/2008   \n",
       "635              Universal Pictures|Apatow Productions    4/17/2008   \n",
       "371                                     Marvel Studios    4/28/2010   \n",
       "933    Fox Searchlight Pictures|Catch 23 Entertainment    8/21/2002   \n",
       "\n",
       "     vote_average  release_year  \n",
       "502           6.5          2001  \n",
       "649           5.8          2008  \n",
       "635           6.3          2008  \n",
       "371           6.6          2010  \n",
       "933           6.4          2002  "
      ]
     },
     "execution_count": 5,
     "metadata": {},
     "output_type": "execute_result"
    }
   ],
   "source": [
    "data = pd.read_csv('movie_bd_v5.csv')\n",
    "data.sample(5)"
   ]
  },
  {
   "cell_type": "code",
   "execution_count": 4,
   "metadata": {
    "colab": {},
    "colab_type": "code",
    "id": "CoYUnagMVp-C"
   },
   "outputs": [
    {
     "data": {
      "text/html": [
       "<div>\n",
       "<style scoped>\n",
       "    .dataframe tbody tr th:only-of-type {\n",
       "        vertical-align: middle;\n",
       "    }\n",
       "\n",
       "    .dataframe tbody tr th {\n",
       "        vertical-align: top;\n",
       "    }\n",
       "\n",
       "    .dataframe thead th {\n",
       "        text-align: right;\n",
       "    }\n",
       "</style>\n",
       "<table border=\"1\" class=\"dataframe\">\n",
       "  <thead>\n",
       "    <tr style=\"text-align: right;\">\n",
       "      <th></th>\n",
       "      <th>budget</th>\n",
       "      <th>revenue</th>\n",
       "      <th>runtime</th>\n",
       "      <th>vote_average</th>\n",
       "      <th>release_year</th>\n",
       "    </tr>\n",
       "  </thead>\n",
       "  <tbody>\n",
       "    <tr>\n",
       "      <th>count</th>\n",
       "      <td>1.889000e+03</td>\n",
       "      <td>1.889000e+03</td>\n",
       "      <td>1889.000000</td>\n",
       "      <td>1889.000000</td>\n",
       "      <td>1889.000000</td>\n",
       "    </tr>\n",
       "    <tr>\n",
       "      <th>mean</th>\n",
       "      <td>5.431083e+07</td>\n",
       "      <td>1.553653e+08</td>\n",
       "      <td>109.658549</td>\n",
       "      <td>6.140762</td>\n",
       "      <td>2007.860773</td>\n",
       "    </tr>\n",
       "    <tr>\n",
       "      <th>std</th>\n",
       "      <td>4.858721e+07</td>\n",
       "      <td>2.146698e+08</td>\n",
       "      <td>18.017041</td>\n",
       "      <td>0.764763</td>\n",
       "      <td>4.468841</td>\n",
       "    </tr>\n",
       "    <tr>\n",
       "      <th>min</th>\n",
       "      <td>5.000000e+06</td>\n",
       "      <td>2.033165e+06</td>\n",
       "      <td>63.000000</td>\n",
       "      <td>3.300000</td>\n",
       "      <td>2000.000000</td>\n",
       "    </tr>\n",
       "    <tr>\n",
       "      <th>25%</th>\n",
       "      <td>2.000000e+07</td>\n",
       "      <td>3.456058e+07</td>\n",
       "      <td>97.000000</td>\n",
       "      <td>5.600000</td>\n",
       "      <td>2004.000000</td>\n",
       "    </tr>\n",
       "    <tr>\n",
       "      <th>50%</th>\n",
       "      <td>3.800000e+07</td>\n",
       "      <td>8.361541e+07</td>\n",
       "      <td>107.000000</td>\n",
       "      <td>6.100000</td>\n",
       "      <td>2008.000000</td>\n",
       "    </tr>\n",
       "    <tr>\n",
       "      <th>75%</th>\n",
       "      <td>7.200000e+07</td>\n",
       "      <td>1.782626e+08</td>\n",
       "      <td>120.000000</td>\n",
       "      <td>6.600000</td>\n",
       "      <td>2012.000000</td>\n",
       "    </tr>\n",
       "    <tr>\n",
       "      <th>max</th>\n",
       "      <td>3.800000e+08</td>\n",
       "      <td>2.781506e+09</td>\n",
       "      <td>214.000000</td>\n",
       "      <td>8.100000</td>\n",
       "      <td>2015.000000</td>\n",
       "    </tr>\n",
       "  </tbody>\n",
       "</table>\n",
       "</div>"
      ],
      "text/plain": [
       "             budget       revenue      runtime  vote_average  release_year\n",
       "count  1.889000e+03  1.889000e+03  1889.000000   1889.000000   1889.000000\n",
       "mean   5.431083e+07  1.553653e+08   109.658549      6.140762   2007.860773\n",
       "std    4.858721e+07  2.146698e+08    18.017041      0.764763      4.468841\n",
       "min    5.000000e+06  2.033165e+06    63.000000      3.300000   2000.000000\n",
       "25%    2.000000e+07  3.456058e+07    97.000000      5.600000   2004.000000\n",
       "50%    3.800000e+07  8.361541e+07   107.000000      6.100000   2008.000000\n",
       "75%    7.200000e+07  1.782626e+08   120.000000      6.600000   2012.000000\n",
       "max    3.800000e+08  2.781506e+09   214.000000      8.100000   2015.000000"
      ]
     },
     "execution_count": 4,
     "metadata": {},
     "output_type": "execute_result"
    }
   ],
   "source": [
    "data.describe()"
   ]
  },
  {
   "cell_type": "markdown",
   "metadata": {
    "colab_type": "text",
    "id": "DTIt7ezGVp-G"
   },
   "source": [
    "# Предобработка"
   ]
  },
  {
   "cell_type": "code",
   "execution_count": 6,
   "metadata": {
    "colab": {},
    "colab_type": "code",
    "id": "jNb40DwKVp-H"
   },
   "outputs": [],
   "source": [
    "answers = {} # создадим словарь для ответов\n",
    "\n",
    "# тут другие ваши предобработки колонок например:\n",
    "\n",
    "#the time given in the dataset is in string format.\n",
    "#So we need to change this in datetime format\n",
    "# ..."
   ]
  },
  {
   "cell_type": "code",
   "execution_count": 21,
   "metadata": {},
   "outputs": [],
   "source": [
    "data['Profit'] = data['revenue'] - data['budget'] # Добавили подработачный столбец Profit"
   ]
  },
  {
   "cell_type": "markdown",
   "metadata": {
    "colab_type": "text",
    "id": "YxZaH-nPVp-L"
   },
   "source": [
    "# 1. У какого фильма из списка самый большой бюджет?"
   ]
  },
  {
   "cell_type": "markdown",
   "metadata": {
    "colab_type": "text",
    "id": "Nd-G5gX6Vp-M"
   },
   "source": [
    "Использовать варианты ответов в коде решения запрещено.    \n",
    "Вы думаете и в жизни у вас будут варианты ответов?)"
   ]
  },
  {
   "cell_type": "code",
   "execution_count": 16,
   "metadata": {
    "colab": {},
    "colab_type": "code",
    "id": "dZwb3m28Vp-S"
   },
   "outputs": [
    {
     "data": {
      "text/plain": [
       "723    Pirates of the Caribbean: On Stranger Tides (t...\n",
       "dtype: object"
      ]
     },
     "metadata": {},
     "output_type": "display_data"
    }
   ],
   "source": [
    "answers['1'] = 'Pirates of the Caribbean: On Stranger Tides (tt1298650)'\n",
    "# ищем фильм с максимальным бюджетом\n",
    "res = data.sort_values('budget', ascending = False).head(1)\n",
    "display(res['original_title'] + ' (' + res['imdb_id'] + ')')"
   ]
  },
  {
   "cell_type": "markdown",
   "metadata": {
    "colab_type": "text",
    "id": "K7L3nbRXVp-X"
   },
   "source": [
    "ВАРИАНТ 2"
   ]
  },
  {
   "cell_type": "code",
   "execution_count": 0,
   "metadata": {
    "colab": {},
    "colab_type": "code",
    "id": "OGaoQI7rVp-X"
   },
   "outputs": [],
   "source": [
    "# можно добавлять разные варианты решения"
   ]
  },
  {
   "cell_type": "markdown",
   "metadata": {
    "colab_type": "text",
    "id": "FNRbbI3vVp-c"
   },
   "source": [
    "# 2. Какой из фильмов самый длительный (в минутах)?"
   ]
  },
  {
   "cell_type": "code",
   "execution_count": 55,
   "metadata": {
    "colab": {},
    "colab_type": "code",
    "id": "ot-VX2XrVp-g"
   },
   "outputs": [
    {
     "name": "stdout",
     "output_type": "stream",
     "text": [
      "1157    Gods and Generals (tt0279111)\n",
      "dtype: object\n"
     ]
    }
   ],
   "source": [
    "answers['2'] = 'Gods and Generals (tt0279111)'\n",
    "res = data.sort_values('runtime', ascending = False).head(1)\n",
    "print(res['original_title'] + ' (' + res['imdb_id'] + ')')"
   ]
  },
  {
   "cell_type": "markdown",
   "metadata": {
    "colab_type": "text",
    "id": "bapLlpW8Vp-k"
   },
   "source": [
    "# 3. Какой из фильмов самый короткий (в минутах)?\n",
    "\n",
    "\n",
    "\n"
   ]
  },
  {
   "cell_type": "code",
   "execution_count": 17,
   "metadata": {
    "colab": {},
    "colab_type": "code",
    "id": "YBxaSHuAVp-l"
   },
   "outputs": [
    {
     "name": "stdout",
     "output_type": "stream",
     "text": [
      "768    Winnie the Pooh (tt1449283)\n",
      "dtype: object\n"
     ]
    }
   ],
   "source": [
    "answers['3'] = 'Winnie the Pooh (tt1449283)'\n",
    "res = data.sort_values('runtime').head(1)\n",
    "print(res['original_title'] + ' (' + res['imdb_id'] + ')')"
   ]
  },
  {
   "cell_type": "markdown",
   "metadata": {
    "colab_type": "text",
    "id": "TfQbxbfNVp-p"
   },
   "source": [
    "# 4. Какова средняя длительность фильмов?\n"
   ]
  },
  {
   "cell_type": "code",
   "execution_count": 18,
   "metadata": {
    "colab": {},
    "colab_type": "code",
    "id": "5K6dKZYVVp-q"
   },
   "outputs": [
    {
     "data": {
      "text/plain": [
       "110.0"
      ]
     },
     "execution_count": 18,
     "metadata": {},
     "output_type": "execute_result"
    }
   ],
   "source": [
    "answers['4'] = '110.0'\n",
    "# среднее значение по столбцу runtime\n",
    "# mean - среднее арифметическое\n",
    "round(data['runtime'].mean(), 0)\n",
    "# 110"
   ]
  },
  {
   "cell_type": "markdown",
   "metadata": {
    "colab_type": "text",
    "id": "r5TvbnT_Vp-u"
   },
   "source": [
    "# 5. Каково медианное значение длительности фильмов? "
   ]
  },
  {
   "cell_type": "code",
   "execution_count": 19,
   "metadata": {
    "colab": {},
    "colab_type": "code",
    "id": "iBROplKnVp-v"
   },
   "outputs": [
    {
     "data": {
      "text/plain": [
       "107.0"
      ]
     },
     "execution_count": 19,
     "metadata": {},
     "output_type": "execute_result"
    }
   ],
   "source": [
    "answers['5'] = '107.0'\n",
    "# ищем медиану среди значений стобца 'runtime'\n",
    "data['runtime'].median()"
   ]
  },
  {
   "cell_type": "markdown",
   "metadata": {
    "colab_type": "text",
    "id": "39P-deDSVp-y"
   },
   "source": [
    "# 6. Какой самый прибыльный фильм?\n",
    "#### Внимание! Здесь и далее под «прибылью» или «убытками» понимается разность между сборами и бюджетом фильма. (прибыль = сборы - бюджет) в нашем датасете это будет (profit = revenue - budget) "
   ]
  },
  {
   "cell_type": "code",
   "execution_count": 22,
   "metadata": {
    "colab": {},
    "colab_type": "code",
    "id": "UYZh4T9WVp-y"
   },
   "outputs": [
    {
     "data": {
      "text/html": [
       "<div>\n",
       "<style scoped>\n",
       "    .dataframe tbody tr th:only-of-type {\n",
       "        vertical-align: middle;\n",
       "    }\n",
       "\n",
       "    .dataframe tbody tr th {\n",
       "        vertical-align: top;\n",
       "    }\n",
       "\n",
       "    .dataframe thead th {\n",
       "        text-align: right;\n",
       "    }\n",
       "</style>\n",
       "<table border=\"1\" class=\"dataframe\">\n",
       "  <thead>\n",
       "    <tr style=\"text-align: right;\">\n",
       "      <th></th>\n",
       "      <th>original_title</th>\n",
       "      <th>imdb_id</th>\n",
       "      <th>Profit</th>\n",
       "    </tr>\n",
       "  </thead>\n",
       "  <tbody>\n",
       "    <tr>\n",
       "      <th>239</th>\n",
       "      <td>Avatar</td>\n",
       "      <td>tt0499549</td>\n",
       "      <td>2544505847</td>\n",
       "    </tr>\n",
       "  </tbody>\n",
       "</table>\n",
       "</div>"
      ],
      "text/plain": [
       "    original_title    imdb_id      Profit\n",
       "239         Avatar  tt0499549  2544505847"
      ]
     },
     "execution_count": 22,
     "metadata": {},
     "output_type": "execute_result"
    }
   ],
   "source": [
    "answers['6'] = 'Avatar (tt0499549)'\n",
    "# сортируем столбец 'Profit' - размер полученной прибыли\n",
    "data[['original_title', 'imdb_id', 'Profit']].sort_values(['Profit'],  ascending=False).head(1)"
   ]
  },
  {
   "cell_type": "markdown",
   "metadata": {
    "colab_type": "text",
    "id": "M99JmIX4Vp-2"
   },
   "source": [
    "# 7. Какой фильм самый убыточный? "
   ]
  },
  {
   "cell_type": "code",
   "execution_count": 23,
   "metadata": {
    "colab": {},
    "colab_type": "code",
    "id": "w-D2m4XPVp-3"
   },
   "outputs": [
    {
     "data": {
      "text/html": [
       "<div>\n",
       "<style scoped>\n",
       "    .dataframe tbody tr th:only-of-type {\n",
       "        vertical-align: middle;\n",
       "    }\n",
       "\n",
       "    .dataframe tbody tr th {\n",
       "        vertical-align: top;\n",
       "    }\n",
       "\n",
       "    .dataframe thead th {\n",
       "        text-align: right;\n",
       "    }\n",
       "</style>\n",
       "<table border=\"1\" class=\"dataframe\">\n",
       "  <thead>\n",
       "    <tr style=\"text-align: right;\">\n",
       "      <th></th>\n",
       "      <th>original_title</th>\n",
       "      <th>imdb_id</th>\n",
       "      <th>Profit</th>\n",
       "    </tr>\n",
       "  </thead>\n",
       "  <tbody>\n",
       "    <tr>\n",
       "      <th>1245</th>\n",
       "      <td>The Lone Ranger</td>\n",
       "      <td>tt1210819</td>\n",
       "      <td>-165710090</td>\n",
       "    </tr>\n",
       "    <tr>\n",
       "      <th>1616</th>\n",
       "      <td>The Alamo</td>\n",
       "      <td>tt0318974</td>\n",
       "      <td>-119180039</td>\n",
       "    </tr>\n",
       "    <tr>\n",
       "      <th>809</th>\n",
       "      <td>Mars Needs Moms</td>\n",
       "      <td>tt1305591</td>\n",
       "      <td>-111007242</td>\n",
       "    </tr>\n",
       "    <tr>\n",
       "      <th>958</th>\n",
       "      <td>The Adventures of Pluto Nash</td>\n",
       "      <td>tt0180052</td>\n",
       "      <td>-92896027</td>\n",
       "    </tr>\n",
       "    <tr>\n",
       "      <th>1464</th>\n",
       "      <td>Flushed Away</td>\n",
       "      <td>tt0424095</td>\n",
       "      <td>-84540684</td>\n",
       "    </tr>\n",
       "  </tbody>\n",
       "</table>\n",
       "</div>"
      ],
      "text/plain": [
       "                    original_title    imdb_id     Profit\n",
       "1245               The Lone Ranger  tt1210819 -165710090\n",
       "1616                     The Alamo  tt0318974 -119180039\n",
       "809                Mars Needs Moms  tt1305591 -111007242\n",
       "958   The Adventures of Pluto Nash  tt0180052  -92896027\n",
       "1464                  Flushed Away  tt0424095  -84540684"
      ]
     },
     "execution_count": 23,
     "metadata": {},
     "output_type": "execute_result"
    }
   ],
   "source": [
    "answers['7'] = 'The Lone Ranger (tt1210819)'\n",
    "data[['original_title', 'imdb_id', 'Profit']].sort_values(['Profit'],  ascending=True).head()"
   ]
  },
  {
   "cell_type": "markdown",
   "metadata": {
    "colab_type": "text",
    "id": "wEOM5ERVVp-6"
   },
   "source": [
    "# 8. У скольких фильмов из датасета объем сборов оказался выше бюджета?"
   ]
  },
  {
   "cell_type": "code",
   "execution_count": 24,
   "metadata": {
    "colab": {},
    "colab_type": "code",
    "id": "y00_7HD6Vp-7"
   },
   "outputs": [
    {
     "data": {
      "text/plain": [
       "1478"
      ]
     },
     "execution_count": 24,
     "metadata": {},
     "output_type": "execute_result"
    }
   ],
   "source": [
    "answers['8'] = '1478'\n",
    "data[data['Profit'] > 0]['Profit'].count()"
   ]
  },
  {
   "cell_type": "markdown",
   "metadata": {
    "colab_type": "text",
    "id": "xhpspA9KVp_A"
   },
   "source": [
    "# 9. Какой фильм оказался самым кассовым в 2008 году?"
   ]
  },
  {
   "cell_type": "code",
   "execution_count": 25,
   "metadata": {
    "colab": {},
    "colab_type": "code",
    "id": "MoUyQr9RVp_B"
   },
   "outputs": [
    {
     "data": {
      "text/html": [
       "<div>\n",
       "<style scoped>\n",
       "    .dataframe tbody tr th:only-of-type {\n",
       "        vertical-align: middle;\n",
       "    }\n",
       "\n",
       "    .dataframe tbody tr th {\n",
       "        vertical-align: top;\n",
       "    }\n",
       "\n",
       "    .dataframe thead th {\n",
       "        text-align: right;\n",
       "    }\n",
       "</style>\n",
       "<table border=\"1\" class=\"dataframe\">\n",
       "  <thead>\n",
       "    <tr style=\"text-align: right;\">\n",
       "      <th></th>\n",
       "      <th>original_title</th>\n",
       "      <th>imdb_id</th>\n",
       "      <th>revenue</th>\n",
       "    </tr>\n",
       "  </thead>\n",
       "  <tbody>\n",
       "    <tr>\n",
       "      <th>599</th>\n",
       "      <td>The Dark Knight</td>\n",
       "      <td>tt0468569</td>\n",
       "      <td>1001921825</td>\n",
       "    </tr>\n",
       "  </tbody>\n",
       "</table>\n",
       "</div>"
      ],
      "text/plain": [
       "      original_title    imdb_id     revenue\n",
       "599  The Dark Knight  tt0468569  1001921825"
      ]
     },
     "execution_count": 25,
     "metadata": {},
     "output_type": "execute_result"
    }
   ],
   "source": [
    "answers['9'] = 'The Dark Knight (tt0468569)'\n",
    "data[data['release_year'] == 2008][['original_title', 'imdb_id', 'revenue']].sort_values(['revenue'],  ascending=False).head(1)"
   ]
  },
  {
   "cell_type": "markdown",
   "metadata": {
    "colab_type": "text",
    "id": "Zi4hDKidVp_F"
   },
   "source": [
    "# 10. Самый убыточный фильм за период с 2012 по 2014 г. (включительно)?\n"
   ]
  },
  {
   "cell_type": "code",
   "execution_count": 26,
   "metadata": {
    "colab": {},
    "colab_type": "code",
    "id": "XqyRmufJVp_F"
   },
   "outputs": [
    {
     "data": {
      "text/html": [
       "<div>\n",
       "<style scoped>\n",
       "    .dataframe tbody tr th:only-of-type {\n",
       "        vertical-align: middle;\n",
       "    }\n",
       "\n",
       "    .dataframe tbody tr th {\n",
       "        vertical-align: top;\n",
       "    }\n",
       "\n",
       "    .dataframe thead th {\n",
       "        text-align: right;\n",
       "    }\n",
       "</style>\n",
       "<table border=\"1\" class=\"dataframe\">\n",
       "  <thead>\n",
       "    <tr style=\"text-align: right;\">\n",
       "      <th></th>\n",
       "      <th>release_year</th>\n",
       "      <th>original_title</th>\n",
       "      <th>imdb_id</th>\n",
       "      <th>Profit</th>\n",
       "    </tr>\n",
       "  </thead>\n",
       "  <tbody>\n",
       "    <tr>\n",
       "      <th>1245</th>\n",
       "      <td>2013</td>\n",
       "      <td>The Lone Ranger</td>\n",
       "      <td>tt1210819</td>\n",
       "      <td>-165710090</td>\n",
       "    </tr>\n",
       "  </tbody>\n",
       "</table>\n",
       "</div>"
      ],
      "text/plain": [
       "      release_year   original_title    imdb_id     Profit\n",
       "1245          2013  The Lone Ranger  tt1210819 -165710090"
      ]
     },
     "execution_count": 26,
     "metadata": {},
     "output_type": "execute_result"
    }
   ],
   "source": [
    "answers['10'] = 'The Lone Ranger (tt1210819)'\n",
    "data[(data['release_year'] >= 2012) & (data['release_year'] <= 2014)][['release_year', 'original_title', 'imdb_id', 'Profit']].sort_values(['Profit'],  ascending=True).head(1)"
   ]
  },
  {
   "cell_type": "markdown",
   "metadata": {
    "colab_type": "text",
    "id": "EA7Sa9dkVp_I"
   },
   "source": [
    "# 11. Какого жанра фильмов больше всего?"
   ]
  },
  {
   "cell_type": "code",
   "execution_count": 28,
   "metadata": {
    "colab": {},
    "colab_type": "code",
    "id": "zsJAwJ8QVp_J"
   },
   "outputs": [
    {
     "data": {
      "text/plain": [
       "Drama              782\n",
       "Comedy             683\n",
       "Thriller           596\n",
       "Action             582\n",
       "Adventure          415\n",
       "Crime              315\n",
       "Romance            308\n",
       "Family             260\n",
       "Science Fiction    248\n",
       "Fantasy            222\n",
       "Horror             176\n",
       "Mystery            168\n",
       "Animation          139\n",
       "Music               64\n",
       "History             62\n",
       "War                 58\n",
       "Western             19\n",
       "Documentary          8\n",
       "Foreign              2\n",
       "Name: genres1, dtype: int64"
      ]
     },
     "execution_count": 28,
     "metadata": {},
     "output_type": "execute_result"
    }
   ],
   "source": [
    "answers['11'] = 'Drama'\n",
    "res = data[['original_title', 'genres']]\n",
    "res['genres'] = res['genres'].str.split('|')\n",
    "# Создаем новые столбцы под каждый из жанров (разворачиваем список на столцы)\n",
    "# для этого строим серию \n",
    "# res['genres'].apply(pd.Series).stack().reset_index(1, drop=True)\n",
    "# которая разбивает каждый элемент в списках на новый столбец.\n",
    "# .stack() складывает эти столбцы в один столбец, сохраняя инфу об индексе\n",
    "# .reset_index(1, drop=True) сбрасывает уровень 1 индекса и отбрасываем его\n",
    "# затем оборачиваем эту серию\n",
    "# pd.Series(res['genres'].apply(pd.Series).stack().reset_index(1, drop=True), name='genres1'))\n",
    "# для присоединения к нашему дата сэту, для этого добавляем стобец name='genres1'\n",
    "# соединяем нашу серию жанров с исходным датафреймом\n",
    "# res.join(pd.Series(res['genres'].apply(pd.Series).stack().reset_index(1, drop=True), \n",
    "#                      name='genres1'))\n",
    "dummies_df = res.join(pd.Series(res['genres'].apply(pd.Series).stack().reset_index(1, drop=True),\n",
    "                     name='genres1'))\n",
    "dummies_df['genres1'].value_counts()"
   ]
  },
  {
   "cell_type": "markdown",
   "metadata": {
    "colab_type": "text",
    "id": "Ax6g2C8SVp_M"
   },
   "source": [
    "ВАРИАНТ 2"
   ]
  },
  {
   "cell_type": "code",
   "execution_count": 0,
   "metadata": {
    "colab": {},
    "colab_type": "code",
    "id": "otO3SbrSVp_N"
   },
   "outputs": [],
   "source": []
  },
  {
   "cell_type": "markdown",
   "metadata": {
    "colab_type": "text",
    "id": "T9_bPWpkVp_Q"
   },
   "source": [
    "# 12. Фильмы какого жанра чаще всего становятся прибыльными? "
   ]
  },
  {
   "cell_type": "code",
   "execution_count": 29,
   "metadata": {
    "colab": {},
    "colab_type": "code",
    "id": "Tmt8MaK1Vp_R"
   },
   "outputs": [
    {
     "data": {
      "text/plain": [
       "Drama              560\n",
       "Comedy             551\n",
       "Thriller           446\n",
       "Action             444\n",
       "Adventure          337\n",
       "Romance            242\n",
       "Crime              231\n",
       "Family             226\n",
       "Science Fiction    195\n",
       "Fantasy            188\n",
       "Horror             150\n",
       "Animation          120\n",
       "Mystery            119\n",
       "Music               47\n",
       "History             46\n",
       "War                 41\n",
       "Western             12\n",
       "Documentary          7\n",
       "Name: genres1, dtype: int64"
      ]
     },
     "execution_count": 29,
     "metadata": {},
     "output_type": "execute_result"
    }
   ],
   "source": [
    "answers['12'] = 'Drama'\n",
    "res = data\n",
    "res['Profit'] = res['revenue'] - res['budget']\n",
    "res = res[res['Profit'] >= 0][['original_title', 'Profit', 'genres']].sort_values(['Profit'])\n",
    "res['genres'] = res['genres'].str.split('|')\n",
    "\n",
    "# Создаем новые столбцы под каждый из жанров\n",
    "# для этого строим серию \n",
    "# res['genres'].apply(pd.Series).stack().reset_index(1, drop=True)\n",
    "# которая разбивает каждый элемент в списках на новый столбец.\n",
    "# .stack() складывает эти столбцы в один столбец, сохраняя инфу об индексе\n",
    "# .reset_index(1, drop=True) сбрасывает уровень 1 индекса и отбрасываем его\n",
    "# затем оборачиваем эту серию\n",
    "# pd.Series(res['genres'].apply(pd.Series).stack().reset_index(1, drop=True), name='genres1'))\n",
    "# для присоединения к нашему дата сэту, для этого добавляем стобец name='genres1'\n",
    "\n",
    "# соединяем нашу серию жанров с исходным датафреймом\n",
    "# res.join(pd.Series(res['genres'].apply(pd.Series).stack().reset_index(1, drop=True), \n",
    "#                      name='genres1'))\n",
    "dummies_df = res.join(pd.Series(res['genres'].apply(pd.Series).stack().reset_index(1, drop=True),\n",
    "                     name='genres1'))\n",
    "dummies_df['genres1'].value_counts()"
   ]
  },
  {
   "cell_type": "markdown",
   "metadata": {
    "colab_type": "text",
    "id": "0F23bgsDVp_U"
   },
   "source": [
    "# 13. У какого режиссера самые большие суммарные кассовые сбооры?"
   ]
  },
  {
   "cell_type": "code",
   "execution_count": 30,
   "metadata": {
    "colab": {},
    "colab_type": "code",
    "id": "K6Z3J8ygVp_X"
   },
   "outputs": [
    {
     "data": {
      "text/html": [
       "<div>\n",
       "<style scoped>\n",
       "    .dataframe tbody tr th:only-of-type {\n",
       "        vertical-align: middle;\n",
       "    }\n",
       "\n",
       "    .dataframe tbody tr th {\n",
       "        vertical-align: top;\n",
       "    }\n",
       "\n",
       "    .dataframe thead th {\n",
       "        text-align: right;\n",
       "    }\n",
       "</style>\n",
       "<table border=\"1\" class=\"dataframe\">\n",
       "  <thead>\n",
       "    <tr style=\"text-align: right;\">\n",
       "      <th></th>\n",
       "      <th>revenue</th>\n",
       "    </tr>\n",
       "    <tr>\n",
       "      <th>director1</th>\n",
       "      <th></th>\n",
       "    </tr>\n",
       "  </thead>\n",
       "  <tbody>\n",
       "    <tr>\n",
       "      <th>Peter Jackson</th>\n",
       "      <td>6490593685</td>\n",
       "    </tr>\n",
       "    <tr>\n",
       "      <th>Christopher Nolan</th>\n",
       "      <td>4167548502</td>\n",
       "    </tr>\n",
       "    <tr>\n",
       "      <th>David Yates</th>\n",
       "      <td>4154295625</td>\n",
       "    </tr>\n",
       "    <tr>\n",
       "      <th>Michael Bay</th>\n",
       "      <td>3886938960</td>\n",
       "    </tr>\n",
       "    <tr>\n",
       "      <th>J.J. Abrams</th>\n",
       "      <td>3579169916</td>\n",
       "    </tr>\n",
       "    <tr>\n",
       "      <th>...</th>\n",
       "      <td>...</td>\n",
       "    </tr>\n",
       "    <tr>\n",
       "      <th>David MichÃ´d</th>\n",
       "      <td>2295423</td>\n",
       "    </tr>\n",
       "    <tr>\n",
       "      <th>Steven Shainberg</th>\n",
       "      <td>2281089</td>\n",
       "    </tr>\n",
       "    <tr>\n",
       "      <th>Paul Schrader</th>\n",
       "      <td>2062066</td>\n",
       "    </tr>\n",
       "    <tr>\n",
       "      <th>Keanu Reeves</th>\n",
       "      <td>2054941</td>\n",
       "    </tr>\n",
       "    <tr>\n",
       "      <th>Simon Hunter</th>\n",
       "      <td>2033165</td>\n",
       "    </tr>\n",
       "  </tbody>\n",
       "</table>\n",
       "<p>997 rows × 1 columns</p>\n",
       "</div>"
      ],
      "text/plain": [
       "                      revenue\n",
       "director1                    \n",
       "Peter Jackson      6490593685\n",
       "Christopher Nolan  4167548502\n",
       "David Yates        4154295625\n",
       "Michael Bay        3886938960\n",
       "J.J. Abrams        3579169916\n",
       "...                       ...\n",
       "David MichÃ´d         2295423\n",
       "Steven Shainberg      2281089\n",
       "Paul Schrader         2062066\n",
       "Keanu Reeves          2054941\n",
       "Simon Hunter          2033165\n",
       "\n",
       "[997 rows x 1 columns]"
      ]
     },
     "execution_count": 30,
     "metadata": {},
     "output_type": "execute_result"
    }
   ],
   "source": [
    "answers['13'] = 'Peter Jackson'\n",
    "res = data[['original_title', 'revenue', 'director']]\n",
    "res['director'] = res['director'].str.split('|')\n",
    "\n",
    "dummies_df = res.join(pd.Series(res['director'].apply(pd.Series).stack().reset_index(1, drop=True),\n",
    "                     name='director1'))\n",
    "dummies_df.pivot_table(index='director1', aggfunc= {'revenue':sum}).sort_values(['revenue'], ascending=False)"
   ]
  },
  {
   "cell_type": "markdown",
   "metadata": {
    "colab_type": "text",
    "id": "PsYC9FgRVp_a"
   },
   "source": [
    "# 14. Какой режисер снял больше всего фильмов в стиле Action?"
   ]
  },
  {
   "cell_type": "code",
   "execution_count": 31,
   "metadata": {
    "colab": {},
    "colab_type": "code",
    "id": "wd2M-wHeVp_b"
   },
   "outputs": [
    {
     "data": {
      "text/plain": [
       "Robert Rodriguez      9\n",
       "Michael Bay           7\n",
       "Paul W.S. Anderson    7\n",
       "Ridley Scott          6\n",
       "Antoine Fuqua         6\n",
       "                     ..\n",
       "Vic Armstrong         1\n",
       "David Koepp           1\n",
       "Bruce Hunt            1\n",
       "Geoffrey Sax          1\n",
       "John McTiernan        1\n",
       "Name: director1, Length: 364, dtype: int64"
      ]
     },
     "execution_count": 31,
     "metadata": {},
     "output_type": "execute_result"
    }
   ],
   "source": [
    "answers['14'] = 'Robert Rodriguez'\n",
    "res = data[['original_title', 'genres', 'director']]\n",
    "res['director'] = res['director'].str.split('|')\n",
    "res['genres'] = res['genres'].str.split('|')\n",
    "\n",
    "dummies_df = res.join(pd.Series(res['genres'].apply(pd.Series).stack().reset_index(1, drop=True),\n",
    "                     name='genres1'))\n",
    "dummies_df = dummies_df[dummies_df['genres1'] == 'Action']\n",
    "\n",
    "dummies_d = dummies_df.join(pd.Series(dummies_df['director'].apply(pd.Series).stack().reset_index(1, drop=True),\n",
    "                      name='director1'))\n",
    "dummies_d['director1'].value_counts()"
   ]
  },
  {
   "cell_type": "markdown",
   "metadata": {
    "colab_type": "text",
    "id": "PQ0KciD7Vp_f"
   },
   "source": [
    "# 15. Фильмы с каким актером принесли самые высокие кассовые сборы в 2012 году? "
   ]
  },
  {
   "cell_type": "code",
   "execution_count": 32,
   "metadata": {
    "colab": {},
    "colab_type": "code",
    "id": "aga62oeKVp_g"
   },
   "outputs": [
    {
     "data": {
      "text/html": [
       "<div>\n",
       "<style scoped>\n",
       "    .dataframe tbody tr th:only-of-type {\n",
       "        vertical-align: middle;\n",
       "    }\n",
       "\n",
       "    .dataframe tbody tr th {\n",
       "        vertical-align: top;\n",
       "    }\n",
       "\n",
       "    .dataframe thead th {\n",
       "        text-align: right;\n",
       "    }\n",
       "</style>\n",
       "<table border=\"1\" class=\"dataframe\">\n",
       "  <thead>\n",
       "    <tr style=\"text-align: right;\">\n",
       "      <th></th>\n",
       "      <th>revenue</th>\n",
       "      <th>release_year</th>\n",
       "    </tr>\n",
       "    <tr>\n",
       "      <th>cast1</th>\n",
       "      <th></th>\n",
       "      <th></th>\n",
       "    </tr>\n",
       "  </thead>\n",
       "  <tbody>\n",
       "    <tr>\n",
       "      <th>Chris Hemsworth</th>\n",
       "      <td>2027450773</td>\n",
       "      <td>8048</td>\n",
       "    </tr>\n",
       "    <tr>\n",
       "      <th>Denis Leary</th>\n",
       "      <td>1629460639</td>\n",
       "      <td>4024</td>\n",
       "    </tr>\n",
       "    <tr>\n",
       "      <th>Anne Hathaway</th>\n",
       "      <td>1522851057</td>\n",
       "      <td>4024</td>\n",
       "    </tr>\n",
       "    <tr>\n",
       "      <th>Robert Downey Jr.</th>\n",
       "      <td>1519557910</td>\n",
       "      <td>2012</td>\n",
       "    </tr>\n",
       "    <tr>\n",
       "      <th>Mark Ruffalo</th>\n",
       "      <td>1519557910</td>\n",
       "      <td>2012</td>\n",
       "    </tr>\n",
       "    <tr>\n",
       "      <th>...</th>\n",
       "      <td>...</td>\n",
       "      <td>...</td>\n",
       "    </tr>\n",
       "    <tr>\n",
       "      <th>Michael Nyqvist</th>\n",
       "      <td>3428048</td>\n",
       "      <td>2012</td>\n",
       "    </tr>\n",
       "    <tr>\n",
       "      <th>Danny Huston</th>\n",
       "      <td>2106557</td>\n",
       "      <td>2012</td>\n",
       "    </tr>\n",
       "    <tr>\n",
       "      <th>Josh Lucas</th>\n",
       "      <td>2106557</td>\n",
       "      <td>2012</td>\n",
       "    </tr>\n",
       "    <tr>\n",
       "      <th>Sami Gayle</th>\n",
       "      <td>2106557</td>\n",
       "      <td>2012</td>\n",
       "    </tr>\n",
       "    <tr>\n",
       "      <th>Nicolas Cage</th>\n",
       "      <td>2106557</td>\n",
       "      <td>2012</td>\n",
       "    </tr>\n",
       "  </tbody>\n",
       "</table>\n",
       "<p>466 rows × 2 columns</p>\n",
       "</div>"
      ],
      "text/plain": [
       "                      revenue  release_year\n",
       "cast1                                      \n",
       "Chris Hemsworth    2027450773          8048\n",
       "Denis Leary        1629460639          4024\n",
       "Anne Hathaway      1522851057          4024\n",
       "Robert Downey Jr.  1519557910          2012\n",
       "Mark Ruffalo       1519557910          2012\n",
       "...                       ...           ...\n",
       "Michael Nyqvist       3428048          2012\n",
       "Danny Huston          2106557          2012\n",
       "Josh Lucas            2106557          2012\n",
       "Sami Gayle            2106557          2012\n",
       "Nicolas Cage          2106557          2012\n",
       "\n",
       "[466 rows x 2 columns]"
      ]
     },
     "execution_count": 32,
     "metadata": {},
     "output_type": "execute_result"
    }
   ],
   "source": [
    "answers['15'] = 'Chris Hemsworth'\n",
    "res = data[['original_title', 'revenue', 'cast', 'release_year']]\n",
    "res['cast'] = res['cast'].str.split('|')\n",
    "res = res[res['release_year'] == 2012]\n",
    "\n",
    "dummies_df = res.join(pd.Series(res['cast'].apply(pd.Series).stack().reset_index(1, drop=True),\n",
    "                     name='cast1'))\n",
    "dummies_df.groupby(['cast1']).sum().sort_values(['revenue'], ascending=False)"
   ]
  },
  {
   "cell_type": "markdown",
   "metadata": {
    "colab_type": "text",
    "id": "mWHyyL7QVp_j"
   },
   "source": [
    "# 16. Какой актер снялся в большем количестве высокобюджетных фильмов?"
   ]
  },
  {
   "cell_type": "code",
   "execution_count": 33,
   "metadata": {},
   "outputs": [
    {
     "data": {
      "text/plain": [
       "Matt Damon            18\n",
       "Adam Sandler          17\n",
       "Angelina Jolie        16\n",
       "Eddie Murphy          15\n",
       "Tom Cruise            15\n",
       "                      ..\n",
       "Jake Cherry            1\n",
       "StÃ©phanie Lagarde     1\n",
       "Kristen Johnston       1\n",
       "Nelly                  1\n",
       "Ian Holm               1\n",
       "Name: cast1, Length: 1505, dtype: int64"
      ]
     },
     "execution_count": 33,
     "metadata": {},
     "output_type": "execute_result"
    }
   ],
   "source": [
    "answers['16'] = 'Matt Damon'\n",
    "res = data[['original_title', 'budget', 'cast']]\n",
    "res['cast'] = res['cast'].str.split('|')\n",
    "# отберем высокобюджетные фильмы\n",
    "i_mean = data['budget'].mean()\n",
    "res = res[res['budget'] > i_mean]\n",
    "\n",
    "\n",
    "dummies_df = res.join(pd.Series(res['cast'].apply(pd.Series).stack().reset_index(1, drop=True),\n",
    "                     name='cast1'))\n",
    "dummies_df['cast1'].value_counts()"
   ]
  },
  {
   "cell_type": "markdown",
   "metadata": {
    "colab_type": "text",
    "id": "NIh6AaW5Vp_n"
   },
   "source": [
    "# 17. В фильмах какого жанра больше всего снимался Nicolas Cage? "
   ]
  },
  {
   "cell_type": "code",
   "execution_count": 34,
   "metadata": {
    "colab": {},
    "colab_type": "code",
    "id": "H74SJDIBVp_n"
   },
   "outputs": [
    {
     "data": {
      "text/plain": [
       "Action             17\n",
       "Thriller           15\n",
       "Drama              12\n",
       "Crime              10\n",
       "Fantasy             8\n",
       "Adventure           7\n",
       "Comedy              6\n",
       "Science Fiction     4\n",
       "Animation           3\n",
       "Family              3\n",
       "Mystery             3\n",
       "History             2\n",
       "War                 1\n",
       "Horror              1\n",
       "Romance             1\n",
       "Name: genres1, dtype: int64"
      ]
     },
     "execution_count": 34,
     "metadata": {},
     "output_type": "execute_result"
    }
   ],
   "source": [
    "answers['17'] = 'Action'\n",
    "res = data[['original_title', 'genres', 'cast']]\n",
    "res['cast'] = res['cast'].str.split('|')\n",
    "res['genres'] = res['genres'].str.split('|')\n",
    "\n",
    "dummies_df = res.join(pd.Series(res['cast'].apply(pd.Series).stack().reset_index(1, drop=True),\n",
    "                     name='cast1'))\n",
    "dummies_df = dummies_df[dummies_df['cast1'] == 'Nicolas Cage']\n",
    "\n",
    "dummies_d = dummies_df.join(pd.Series(dummies_df['genres'].apply(pd.Series).stack().reset_index(1, drop=True),\n",
    "                      name='genres1'))\n",
    "dummies_d['genres1'].value_counts()"
   ]
  },
  {
   "cell_type": "markdown",
   "metadata": {
    "colab_type": "text",
    "id": "RqOmPRfWVp_q"
   },
   "source": [
    "# 18. Самый убыточный фильм от Paramount Pictures"
   ]
  },
  {
   "cell_type": "code",
   "execution_count": 35,
   "metadata": {
    "colab": {},
    "colab_type": "code",
    "id": "9E_B0Y96Vp_r"
   },
   "outputs": [
    {
     "data": {
      "text/html": [
       "<div>\n",
       "<style scoped>\n",
       "    .dataframe tbody tr th:only-of-type {\n",
       "        vertical-align: middle;\n",
       "    }\n",
       "\n",
       "    .dataframe tbody tr th {\n",
       "        vertical-align: top;\n",
       "    }\n",
       "\n",
       "    .dataframe thead th {\n",
       "        text-align: right;\n",
       "    }\n",
       "</style>\n",
       "<table border=\"1\" class=\"dataframe\">\n",
       "  <thead>\n",
       "    <tr style=\"text-align: right;\">\n",
       "      <th></th>\n",
       "      <th>original_title</th>\n",
       "      <th>imdb_id</th>\n",
       "      <th>Profit</th>\n",
       "      <th>production_companies2</th>\n",
       "    </tr>\n",
       "  </thead>\n",
       "  <tbody>\n",
       "    <tr>\n",
       "      <th>925</th>\n",
       "      <td>K-19: The Widowmaker</td>\n",
       "      <td>tt0267626</td>\n",
       "      <td>-64831034</td>\n",
       "      <td>Paramount Pictures</td>\n",
       "    </tr>\n",
       "    <tr>\n",
       "      <th>1123</th>\n",
       "      <td>Timeline</td>\n",
       "      <td>tt0300556</td>\n",
       "      <td>-60519261</td>\n",
       "      <td>Paramount Pictures</td>\n",
       "    </tr>\n",
       "    <tr>\n",
       "      <th>1722</th>\n",
       "      <td>Next</td>\n",
       "      <td>tt0435705</td>\n",
       "      <td>-51788987</td>\n",
       "      <td>Paramount Pictures</td>\n",
       "    </tr>\n",
       "    <tr>\n",
       "      <th>1623</th>\n",
       "      <td>Alfie</td>\n",
       "      <td>tt0375173</td>\n",
       "      <td>-46604061</td>\n",
       "      <td>Paramount Pictures</td>\n",
       "    </tr>\n",
       "    <tr>\n",
       "      <th>1631</th>\n",
       "      <td>Twisted</td>\n",
       "      <td>tt0315297</td>\n",
       "      <td>-24805000</td>\n",
       "      <td>Paramount Pictures</td>\n",
       "    </tr>\n",
       "  </tbody>\n",
       "</table>\n",
       "</div>"
      ],
      "text/plain": [
       "            original_title    imdb_id    Profit production_companies2\n",
       "925   K-19: The Widowmaker  tt0267626 -64831034    Paramount Pictures\n",
       "1123              Timeline  tt0300556 -60519261    Paramount Pictures\n",
       "1722                  Next  tt0435705 -51788987    Paramount Pictures\n",
       "1623                 Alfie  tt0375173 -46604061    Paramount Pictures\n",
       "1631               Twisted  tt0315297 -24805000    Paramount Pictures"
      ]
     },
     "execution_count": 35,
     "metadata": {},
     "output_type": "execute_result"
    }
   ],
   "source": [
    "answers['18'] = 'K-19: The Widowmaker (tt0267626)'\n",
    "res = data\n",
    "res['Profit'] = res['revenue'] - res['budget']\n",
    "res['production_companies1'] = res['production_companies'].str.split('|')\n",
    "\n",
    "dummies_df = res.join(pd.Series(res['production_companies1'].apply(pd.Series).stack().reset_index(1, drop=True),\n",
    "                     name='production_companies2'))\n",
    "dummies_df = dummies_df[dummies_df['production_companies2'] == 'Paramount Pictures'][['original_title', 'imdb_id', 'Profit', 'production_companies2']].sort_values(['Profit'])\n",
    "dummies_df.head()"
   ]
  },
  {
   "cell_type": "markdown",
   "metadata": {
    "colab_type": "text",
    "id": "vS8Ur6ddVp_u"
   },
   "source": [
    "# 19. Какой год стал самым успешным по суммарным кассовым сборам?"
   ]
  },
  {
   "cell_type": "code",
   "execution_count": 41,
   "metadata": {
    "colab": {},
    "colab_type": "code",
    "id": "Dnbt4GdIVp_v"
   },
   "outputs": [
    {
     "data": {
      "text/html": [
       "<div>\n",
       "<style scoped>\n",
       "    .dataframe tbody tr th:only-of-type {\n",
       "        vertical-align: middle;\n",
       "    }\n",
       "\n",
       "    .dataframe tbody tr th {\n",
       "        vertical-align: top;\n",
       "    }\n",
       "\n",
       "    .dataframe thead th {\n",
       "        text-align: right;\n",
       "    }\n",
       "</style>\n",
       "<table border=\"1\" class=\"dataframe\">\n",
       "  <thead>\n",
       "    <tr style=\"text-align: right;\">\n",
       "      <th></th>\n",
       "      <th>Profit</th>\n",
       "    </tr>\n",
       "    <tr>\n",
       "      <th>release_year</th>\n",
       "      <th></th>\n",
       "    </tr>\n",
       "  </thead>\n",
       "  <tbody>\n",
       "    <tr>\n",
       "      <th>2015</th>\n",
       "      <td>18668572378</td>\n",
       "    </tr>\n",
       "    <tr>\n",
       "      <th>2014</th>\n",
       "      <td>16397812953</td>\n",
       "    </tr>\n",
       "    <tr>\n",
       "      <th>2012</th>\n",
       "      <td>16077001687</td>\n",
       "    </tr>\n",
       "    <tr>\n",
       "      <th>2013</th>\n",
       "      <td>15243179791</td>\n",
       "    </tr>\n",
       "    <tr>\n",
       "      <th>2011</th>\n",
       "      <td>14730241341</td>\n",
       "    </tr>\n",
       "  </tbody>\n",
       "</table>\n",
       "</div>"
      ],
      "text/plain": [
       "                   Profit\n",
       "release_year             \n",
       "2015          18668572378\n",
       "2014          16397812953\n",
       "2012          16077001687\n",
       "2013          15243179791\n",
       "2011          14730241341"
      ]
     },
     "execution_count": 41,
     "metadata": {},
     "output_type": "execute_result"
    }
   ],
   "source": [
    "answers['19'] = '2015'\n",
    "res = data\n",
    "res['Profit'] = res['revenue'] - res['budget']\n",
    "res[['original_title', 'imdb_id', 'release_year', 'Profit']].groupby(['release_year']).sum().sort_values(['Profit'],  \n",
    "    ascending=False).head()"
   ]
  },
  {
   "cell_type": "markdown",
   "metadata": {
    "colab_type": "text",
    "id": "JAzJh4QAVp_z"
   },
   "source": [
    "# 20. Какой самый прибыльный год для студии Warner Bros?"
   ]
  },
  {
   "cell_type": "code",
   "execution_count": 40,
   "metadata": {
    "colab": {},
    "colab_type": "code",
    "id": "wgVu02DEVp_0"
   },
   "outputs": [
    {
     "data": {
      "text/html": [
       "<div>\n",
       "<style scoped>\n",
       "    .dataframe tbody tr th:only-of-type {\n",
       "        vertical-align: middle;\n",
       "    }\n",
       "\n",
       "    .dataframe tbody tr th {\n",
       "        vertical-align: top;\n",
       "    }\n",
       "\n",
       "    .dataframe thead th {\n",
       "        text-align: right;\n",
       "    }\n",
       "</style>\n",
       "<table border=\"1\" class=\"dataframe\">\n",
       "  <thead>\n",
       "    <tr style=\"text-align: right;\">\n",
       "      <th></th>\n",
       "      <th>Profit</th>\n",
       "    </tr>\n",
       "    <tr>\n",
       "      <th>release_year</th>\n",
       "      <th></th>\n",
       "    </tr>\n",
       "  </thead>\n",
       "  <tbody>\n",
       "    <tr>\n",
       "      <th>2014</th>\n",
       "      <td>2292949646</td>\n",
       "    </tr>\n",
       "    <tr>\n",
       "      <th>2007</th>\n",
       "      <td>2201675217</td>\n",
       "    </tr>\n",
       "    <tr>\n",
       "      <th>2008</th>\n",
       "      <td>2134595031</td>\n",
       "    </tr>\n",
       "    <tr>\n",
       "      <th>2010</th>\n",
       "      <td>1974712985</td>\n",
       "    </tr>\n",
       "    <tr>\n",
       "      <th>2011</th>\n",
       "      <td>1871393682</td>\n",
       "    </tr>\n",
       "  </tbody>\n",
       "</table>\n",
       "</div>"
      ],
      "text/plain": [
       "                  Profit\n",
       "release_year            \n",
       "2014          2292949646\n",
       "2007          2201675217\n",
       "2008          2134595031\n",
       "2010          1974712985\n",
       "2011          1871393682"
      ]
     },
     "execution_count": 40,
     "metadata": {},
     "output_type": "execute_result"
    }
   ],
   "source": [
    "answers['20'] = '2014'\n",
    "res = data\n",
    "res['Profit'] = res['revenue'] - res['budget']\n",
    "res['production_companies1'] = res['production_companies'].str.split('|')\n",
    "\n",
    "dummies_df = res.join(pd.Series(res['production_companies1'].apply(pd.Series).stack().reset_index(1, drop=True),\n",
    "                     name='production_companies2'))\n",
    "dummies_df = dummies_df[dummies_df['production_companies2'].str.contains('Warner Bros')][['original_title', \n",
    "                                                                                          'Profit', 'release_year', \n",
    "                                                                                          'production_companies2']]\n",
    "dummies_df.groupby(['release_year']).sum().sort_values(['Profit'],  ascending=False).head()\n"
   ]
  },
  {
   "cell_type": "markdown",
   "metadata": {
    "colab_type": "text",
    "id": "8Im1S2HRVp_4"
   },
   "source": [
    "# 21. В каком месяце за все годы суммарно вышло больше всего фильмов?"
   ]
  },
  {
   "cell_type": "code",
   "execution_count": 42,
   "metadata": {
    "colab": {},
    "colab_type": "code",
    "id": "lev6TH7gVp_4"
   },
   "outputs": [
    {
     "data": {
      "text/html": [
       "<div>\n",
       "<style scoped>\n",
       "    .dataframe tbody tr th:only-of-type {\n",
       "        vertical-align: middle;\n",
       "    }\n",
       "\n",
       "    .dataframe tbody tr th {\n",
       "        vertical-align: top;\n",
       "    }\n",
       "\n",
       "    .dataframe thead th {\n",
       "        text-align: right;\n",
       "    }\n",
       "</style>\n",
       "<table border=\"1\" class=\"dataframe\">\n",
       "  <thead>\n",
       "    <tr style=\"text-align: right;\">\n",
       "      <th></th>\n",
       "      <th>imdb_id</th>\n",
       "    </tr>\n",
       "    <tr>\n",
       "      <th>month</th>\n",
       "      <th></th>\n",
       "    </tr>\n",
       "  </thead>\n",
       "  <tbody>\n",
       "    <tr>\n",
       "      <th>9</th>\n",
       "      <td>227</td>\n",
       "    </tr>\n",
       "    <tr>\n",
       "      <th>12</th>\n",
       "      <td>190</td>\n",
       "    </tr>\n",
       "    <tr>\n",
       "      <th>10</th>\n",
       "      <td>186</td>\n",
       "    </tr>\n",
       "    <tr>\n",
       "      <th>8</th>\n",
       "      <td>161</td>\n",
       "    </tr>\n",
       "    <tr>\n",
       "      <th>3</th>\n",
       "      <td>156</td>\n",
       "    </tr>\n",
       "  </tbody>\n",
       "</table>\n",
       "</div>"
      ],
      "text/plain": [
       "       imdb_id\n",
       "month         \n",
       "9          227\n",
       "12         190\n",
       "10         186\n",
       "8          161\n",
       "3          156"
      ]
     },
     "execution_count": 42,
     "metadata": {},
     "output_type": "execute_result"
    }
   ],
   "source": [
    "answers['21'] = 'Сентябрь'\n",
    "res = data\n",
    "res['month'] = pd.DatetimeIndex(res['release_date']).month\n",
    "res[['imdb_id', 'month']].groupby(['month']).count().sort_values('imdb_id',  ascending=False).head()"
   ]
  },
  {
   "cell_type": "markdown",
   "metadata": {
    "colab_type": "text",
    "id": "uAJsZ_NeVp_7"
   },
   "source": [
    "# 22. Сколько суммарно вышло фильмов летом? (за июнь, июль, август)"
   ]
  },
  {
   "cell_type": "code",
   "execution_count": 43,
   "metadata": {
    "colab": {},
    "colab_type": "code",
    "id": "Aa-hEREoVp_8"
   },
   "outputs": [
    {
     "data": {
      "text/plain": [
       "imdb_id    450\n",
       "dtype: int64"
      ]
     },
     "execution_count": 43,
     "metadata": {},
     "output_type": "execute_result"
    }
   ],
   "source": [
    "answers['22'] = '450'\n",
    "res = data\n",
    "res['month'] = pd.DatetimeIndex(res['release_date']).month\n",
    "res[(res['month'] >= 6) & (res['month'] <= 8)][['imdb_id', 'month']].groupby(['month']).count().sum()"
   ]
  },
  {
   "cell_type": "markdown",
   "metadata": {
    "colab_type": "text",
    "id": "G94ppOY1VqAA"
   },
   "source": [
    "# 23. Для какого режиссера зима – самое продуктивное время года? "
   ]
  },
  {
   "cell_type": "code",
   "execution_count": 45,
   "metadata": {
    "colab": {},
    "colab_type": "code",
    "id": "RhNTsamuVqAB"
   },
   "outputs": [
    {
     "data": {
      "text/html": [
       "<div>\n",
       "<style scoped>\n",
       "    .dataframe tbody tr th:only-of-type {\n",
       "        vertical-align: middle;\n",
       "    }\n",
       "\n",
       "    .dataframe tbody tr th {\n",
       "        vertical-align: top;\n",
       "    }\n",
       "\n",
       "    .dataframe thead th {\n",
       "        text-align: right;\n",
       "    }\n",
       "</style>\n",
       "<table border=\"1\" class=\"dataframe\">\n",
       "  <thead>\n",
       "    <tr style=\"text-align: right;\">\n",
       "      <th></th>\n",
       "      <th>month</th>\n",
       "    </tr>\n",
       "    <tr>\n",
       "      <th>director1</th>\n",
       "      <th></th>\n",
       "    </tr>\n",
       "  </thead>\n",
       "  <tbody>\n",
       "    <tr>\n",
       "      <th>Peter Jackson</th>\n",
       "      <td>7</td>\n",
       "    </tr>\n",
       "    <tr>\n",
       "      <th>Steven Soderbergh</th>\n",
       "      <td>6</td>\n",
       "    </tr>\n",
       "    <tr>\n",
       "      <th>Clint Eastwood</th>\n",
       "      <td>6</td>\n",
       "    </tr>\n",
       "    <tr>\n",
       "      <th>Shawn Levy</th>\n",
       "      <td>4</td>\n",
       "    </tr>\n",
       "    <tr>\n",
       "      <th>Adam Shankman</th>\n",
       "      <td>4</td>\n",
       "    </tr>\n",
       "  </tbody>\n",
       "</table>\n",
       "</div>"
      ],
      "text/plain": [
       "                   month\n",
       "director1               \n",
       "Peter Jackson          7\n",
       "Steven Soderbergh      6\n",
       "Clint Eastwood         6\n",
       "Shawn Levy             4\n",
       "Adam Shankman          4"
      ]
     },
     "execution_count": 45,
     "metadata": {},
     "output_type": "execute_result"
    }
   ],
   "source": [
    "answers['23'] = 'Peter Jackson'\n",
    "res = data[['director', 'release_date']]\n",
    "res['month'] = pd.DatetimeIndex(res['release_date']).month\n",
    "res['director'] = res['director'].str.split('|')\n",
    "res = res[(res['month'] <= 2) | (res['month'] == 12)]\n",
    "\n",
    "res = res.join(pd.Series(res['director'].apply(pd.Series).stack().reset_index(1, drop=True),\n",
    "                        name='director1'))\n",
    "res[['director1', 'month']].groupby(['director1']).count().sort_values('month',  ascending=False).head()\n"
   ]
  },
  {
   "cell_type": "markdown",
   "metadata": {
    "colab_type": "text",
    "id": "RBo0JVjVVqAF"
   },
   "source": [
    "# 24. Какая студия дает самые длинные названия своим фильмам по количеству символов?"
   ]
  },
  {
   "cell_type": "code",
   "execution_count": 47,
   "metadata": {
    "colab": {},
    "colab_type": "code",
    "id": "QRGS8L0iVqAG"
   },
   "outputs": [
    {
     "data": {
      "text/html": [
       "<div>\n",
       "<style scoped>\n",
       "    .dataframe tbody tr th:only-of-type {\n",
       "        vertical-align: middle;\n",
       "    }\n",
       "\n",
       "    .dataframe tbody tr th {\n",
       "        vertical-align: top;\n",
       "    }\n",
       "\n",
       "    .dataframe thead th {\n",
       "        text-align: right;\n",
       "    }\n",
       "</style>\n",
       "<table border=\"1\" class=\"dataframe\">\n",
       "  <thead>\n",
       "    <tr style=\"text-align: right;\">\n",
       "      <th></th>\n",
       "      <th>production_companies</th>\n",
       "      <th>original_title</th>\n",
       "      <th>len</th>\n",
       "      <th>production_companies1</th>\n",
       "    </tr>\n",
       "  </thead>\n",
       "  <tbody>\n",
       "    <tr>\n",
       "      <th>1448</th>\n",
       "      <td>[Twentieth Century Fox Film Corporation, Four ...</td>\n",
       "      <td>Borat: Cultural Learnings of America for Make ...</td>\n",
       "      <td>83</td>\n",
       "      <td>Four By Two Productions</td>\n",
       "    </tr>\n",
       "    <tr>\n",
       "      <th>1448</th>\n",
       "      <td>[Twentieth Century Fox Film Corporation, Four ...</td>\n",
       "      <td>Borat: Cultural Learnings of America for Make ...</td>\n",
       "      <td>83</td>\n",
       "      <td>Twentieth Century Fox Film Corporation</td>\n",
       "    </tr>\n",
       "    <tr>\n",
       "      <th>1314</th>\n",
       "      <td>[Walt Disney, Walden Media]</td>\n",
       "      <td>The Chronicles of Narnia: The Lion, the Witch ...</td>\n",
       "      <td>62</td>\n",
       "      <td>Walden Media</td>\n",
       "    </tr>\n",
       "    <tr>\n",
       "      <th>1314</th>\n",
       "      <td>[Walt Disney, Walden Media]</td>\n",
       "      <td>The Chronicles of Narnia: The Lion, the Witch ...</td>\n",
       "      <td>62</td>\n",
       "      <td>Walt Disney</td>\n",
       "    </tr>\n",
       "    <tr>\n",
       "      <th>219</th>\n",
       "      <td>[Walt Disney Pictures, 21 Laps Entertainment, ...</td>\n",
       "      <td>Alexander and the Terrible, Horrible, No Good,...</td>\n",
       "      <td>59</td>\n",
       "      <td>Walt Disney Pictures</td>\n",
       "    </tr>\n",
       "  </tbody>\n",
       "</table>\n",
       "</div>"
      ],
      "text/plain": [
       "                                   production_companies  \\\n",
       "1448  [Twentieth Century Fox Film Corporation, Four ...   \n",
       "1448  [Twentieth Century Fox Film Corporation, Four ...   \n",
       "1314                        [Walt Disney, Walden Media]   \n",
       "1314                        [Walt Disney, Walden Media]   \n",
       "219   [Walt Disney Pictures, 21 Laps Entertainment, ...   \n",
       "\n",
       "                                         original_title  len  \\\n",
       "1448  Borat: Cultural Learnings of America for Make ...   83   \n",
       "1448  Borat: Cultural Learnings of America for Make ...   83   \n",
       "1314  The Chronicles of Narnia: The Lion, the Witch ...   62   \n",
       "1314  The Chronicles of Narnia: The Lion, the Witch ...   62   \n",
       "219   Alexander and the Terrible, Horrible, No Good,...   59   \n",
       "\n",
       "                       production_companies1  \n",
       "1448                 Four By Two Productions  \n",
       "1448  Twentieth Century Fox Film Corporation  \n",
       "1314                            Walden Media  \n",
       "1314                             Walt Disney  \n",
       "219                     Walt Disney Pictures  "
      ]
     },
     "execution_count": 47,
     "metadata": {},
     "output_type": "execute_result"
    }
   ],
   "source": [
    "# использовал две попытки и обе не вырные\n",
    "answers['24'] = 'Four By Two Productions'\n",
    "res = data[['production_companies', 'original_title']]\n",
    "res['production_companies'] = res['production_companies'].str.split('|')\n",
    "res['len'] = res['original_title'].str.len()\n",
    "res = res.join(pd.Series(res['production_companies'].apply(pd.Series).stack().reset_index(1, drop=True),\n",
    "                        name='production_companies1'))\n",
    "res.sort_values('len',  ascending=False).head()"
   ]
  },
  {
   "cell_type": "markdown",
   "metadata": {
    "colab_type": "text",
    "id": "9G0hbvR7VqAK"
   },
   "source": [
    "# 25. Описание фильмов какой студии в среднем самые длинные по количеству слов?"
   ]
  },
  {
   "cell_type": "code",
   "execution_count": 49,
   "metadata": {
    "colab": {},
    "colab_type": "code",
    "id": "Ge2GsLNxVqAK"
   },
   "outputs": [
    {
     "data": {
      "text/html": [
       "<div>\n",
       "<style scoped>\n",
       "    .dataframe tbody tr th:only-of-type {\n",
       "        vertical-align: middle;\n",
       "    }\n",
       "\n",
       "    .dataframe tbody tr th {\n",
       "        vertical-align: top;\n",
       "    }\n",
       "\n",
       "    .dataframe thead th {\n",
       "        text-align: right;\n",
       "    }\n",
       "</style>\n",
       "<table border=\"1\" class=\"dataframe\">\n",
       "  <thead>\n",
       "    <tr style=\"text-align: right;\">\n",
       "      <th></th>\n",
       "      <th>word</th>\n",
       "    </tr>\n",
       "    <tr>\n",
       "      <th>production_companies1</th>\n",
       "      <th></th>\n",
       "    </tr>\n",
       "  </thead>\n",
       "  <tbody>\n",
       "    <tr>\n",
       "      <th>Midnight Picture Show</th>\n",
       "      <td>175.0</td>\n",
       "    </tr>\n",
       "    <tr>\n",
       "      <th>Heineken Branded Entertainment</th>\n",
       "      <td>161.0</td>\n",
       "    </tr>\n",
       "    <tr>\n",
       "      <th>Room 9 Entertainment</th>\n",
       "      <td>161.0</td>\n",
       "    </tr>\n",
       "    <tr>\n",
       "      <th>98 MPH Productions</th>\n",
       "      <td>159.0</td>\n",
       "    </tr>\n",
       "    <tr>\n",
       "      <th>Brookwell-McNamara Entertainment</th>\n",
       "      <td>156.0</td>\n",
       "    </tr>\n",
       "  </tbody>\n",
       "</table>\n",
       "</div>"
      ],
      "text/plain": [
       "                                   word\n",
       "production_companies1                  \n",
       "Midnight Picture Show             175.0\n",
       "Heineken Branded Entertainment    161.0\n",
       "Room 9 Entertainment              161.0\n",
       "98 MPH Productions                159.0\n",
       "Brookwell-McNamara Entertainment  156.0"
      ]
     },
     "execution_count": 49,
     "metadata": {},
     "output_type": "execute_result"
    }
   ],
   "source": [
    "answers['25'] = 'Midnight Picture Show'\n",
    "res = data[['production_companies', 'overview']]\n",
    "res['production_companies'] = res['production_companies'].str.split('|')\n",
    "res['word'] = res['overview'].map(lambda x: len(x.split(' ')))\n",
    "\n",
    "res = res.join(pd.Series(res['production_companies'].apply(pd.Series).stack().reset_index(1, drop=True),\n",
    "                        name='production_companies1'))\n",
    "res.groupby(['production_companies1']).mean().sort_values('word',  ascending=False).head()"
   ]
  },
  {
   "cell_type": "markdown",
   "metadata": {
    "colab_type": "text",
    "id": "FJ1AFt90VqAP"
   },
   "source": [
    "# 26. Какие фильмы входят в 1 процент лучших по рейтингу? \n",
    "по vote_average"
   ]
  },
  {
   "cell_type": "code",
   "execution_count": 52,
   "metadata": {
    "colab": {},
    "colab_type": "code",
    "id": "8qmJVq4CVqAQ"
   },
   "outputs": [
    {
     "data": {
      "text/html": [
       "<div>\n",
       "<style scoped>\n",
       "    .dataframe tbody tr th:only-of-type {\n",
       "        vertical-align: middle;\n",
       "    }\n",
       "\n",
       "    .dataframe tbody tr th {\n",
       "        vertical-align: top;\n",
       "    }\n",
       "\n",
       "    .dataframe thead th {\n",
       "        text-align: right;\n",
       "    }\n",
       "</style>\n",
       "<table border=\"1\" class=\"dataframe\">\n",
       "  <thead>\n",
       "    <tr style=\"text-align: right;\">\n",
       "      <th></th>\n",
       "      <th>original_title</th>\n",
       "      <th>vote_average</th>\n",
       "    </tr>\n",
       "  </thead>\n",
       "  <tbody>\n",
       "    <tr>\n",
       "      <th>599</th>\n",
       "      <td>The Dark Knight</td>\n",
       "      <td>8.1</td>\n",
       "    </tr>\n",
       "    <tr>\n",
       "      <th>9</th>\n",
       "      <td>Inside Out</td>\n",
       "      <td>8.0</td>\n",
       "    </tr>\n",
       "    <tr>\n",
       "      <th>34</th>\n",
       "      <td>Room</td>\n",
       "      <td>8.0</td>\n",
       "    </tr>\n",
       "    <tr>\n",
       "      <th>118</th>\n",
       "      <td>Interstellar</td>\n",
       "      <td>8.0</td>\n",
       "    </tr>\n",
       "    <tr>\n",
       "      <th>125</th>\n",
       "      <td>The Imitation Game</td>\n",
       "      <td>8.0</td>\n",
       "    </tr>\n",
       "    <tr>\n",
       "      <th>370</th>\n",
       "      <td>Inception</td>\n",
       "      <td>7.9</td>\n",
       "    </tr>\n",
       "    <tr>\n",
       "      <th>1191</th>\n",
       "      <td>12 Years a Slave</td>\n",
       "      <td>7.9</td>\n",
       "    </tr>\n",
       "  </tbody>\n",
       "</table>\n",
       "</div>"
      ],
      "text/plain": [
       "          original_title  vote_average\n",
       "599      The Dark Knight           8.1\n",
       "9             Inside Out           8.0\n",
       "34                  Room           8.0\n",
       "118         Interstellar           8.0\n",
       "125   The Imitation Game           8.0\n",
       "370            Inception           7.9\n",
       "1191    12 Years a Slave           7.9"
      ]
     },
     "execution_count": 52,
     "metadata": {},
     "output_type": "execute_result"
    }
   ],
   "source": [
    "answers['26'] = 'Inside Out, The Dark Knight, 12 Years a Slave'\n",
    "res = data[['original_title', 'vote_average']]\n",
    "\n",
    "quant = res.sort_values('vote_average',  ascending=False).quantile(0.99)[0]\n",
    "res = res[res['vote_average'] >= quant]\n",
    "res.sort_values('vote_average',  ascending=False).head(7)"
   ]
  },
  {
   "cell_type": "markdown",
   "metadata": {
    "colab_type": "text",
    "id": "MdXsUXbCVqAV"
   },
   "source": [
    "# 27. Какие актеры чаще всего снимаются в одном фильме вместе?\n"
   ]
  },
  {
   "cell_type": "code",
   "execution_count": 53,
   "metadata": {
    "colab_type": "text",
    "id": "4ymnxEVoVqAW"
   },
   "outputs": [
    {
     "data": {
      "text/plain": [
       "[(('Daniel Radcliffe', 'Rupert Grint'), 8),\n",
       " (('Daniel Radcliffe', 'Emma Watson'), 8),\n",
       " (('Rupert Grint', 'Emma Watson'), 7),\n",
       " (('Ben Stiller', 'Owen Wilson'), 6),\n",
       " (('Johnny Depp', 'Helena Bonham Carter'), 6)]"
      ]
     },
     "execution_count": 53,
     "metadata": {},
     "output_type": "execute_result"
    }
   ],
   "source": [
    "answers['27'] = 'Daniel Radcliffe', 'Rupert Grint'\n",
    "res = data[['cast', 'original_title']]\n",
    "res['i_cast'] = res['cast'].apply(lambda x: list(combinations(str(x).split('|'), 2)))\n",
    "c = Counter()\n",
    "for word in res['i_cast'].sum():\n",
    "    c[word] += 1\n",
    "c.most_common(5)"
   ]
  },
  {
   "cell_type": "markdown",
   "metadata": {
    "colab_type": "text",
    "id": "U0nONFnGVqAX"
   },
   "source": [
    "# Submission"
   ]
  },
  {
   "cell_type": "code",
   "execution_count": 56,
   "metadata": {
    "colab": {},
    "colab_type": "code",
    "id": "IfcaRO9-VqAX",
    "outputId": "0f132912-32bb-4196-c98c-abfbc4ad5a5f"
   },
   "outputs": [
    {
     "data": {
      "text/plain": [
       "{'23': 'Peter Jackson',\n",
       " '25': 'Midnight Picture Show',\n",
       " '26': 'Inside Out, The Dark Knight, 12 Years a Slave',\n",
       " '27': ('Daniel Radcliffe', 'Rupert Grint'),\n",
       " '1': 'Pirates of the Caribbean: On Stranger Tides (tt1298650)',\n",
       " '3': 'Winnie the Pooh (tt1449283)',\n",
       " '4': '110.0',\n",
       " '5': '107.0',\n",
       " '6': 'Avatar (tt0499549)',\n",
       " '7': 'The Lone Ranger (tt1210819)',\n",
       " '8': '1478',\n",
       " '9': 'The Dark Knight (tt0468569)',\n",
       " '10': 'The Lone Ranger (tt1210819)',\n",
       " '11': 'Drama',\n",
       " '12': 'Drama',\n",
       " '13': 'Peter Jackson',\n",
       " '14': 'Robert Rodriguez',\n",
       " '15': 'Chris Hemsworth',\n",
       " '16': 'Matt Damon',\n",
       " '17': 'Action',\n",
       " '18': 'K-19: The Widowmaker (tt0267626)',\n",
       " '19': '2015',\n",
       " '20': '2014',\n",
       " '21': 'Сентябрь',\n",
       " '22': '450',\n",
       " '24': 'Four By Two Productions',\n",
       " '2': 'Gods and Generals (tt0279111)'}"
      ]
     },
     "execution_count": 56,
     "metadata": {},
     "output_type": "execute_result"
    }
   ],
   "source": [
    "# в конце можно посмотреть свои ответы к каждому вопросу\n",
    "answers"
   ]
  },
  {
   "cell_type": "code",
   "execution_count": 57,
   "metadata": {
    "colab": {},
    "colab_type": "code",
    "id": "SiRmHPl8VqAd"
   },
   "outputs": [
    {
     "data": {
      "text/plain": [
       "27"
      ]
     },
     "execution_count": 57,
     "metadata": {},
     "output_type": "execute_result"
    }
   ],
   "source": [
    "# и убедиться что ни чего не пропустил)\n",
    "len(answers)"
   ]
  },
  {
   "cell_type": "code",
   "execution_count": 0,
   "metadata": {
    "colab": {},
    "colab_type": "code",
    "id": "uCfuTkRbVqAg"
   },
   "outputs": [],
   "source": []
  },
  {
   "cell_type": "code",
   "execution_count": 0,
   "metadata": {
    "colab": {},
    "colab_type": "code",
    "id": "Vwx3NrkSVqAl"
   },
   "outputs": [],
   "source": []
  }
 ],
 "metadata": {
  "colab": {
   "name": "Copy of [SF-DST] Movies IMBD v4.1 TEMPLATE.ipynb",
   "provenance": []
  },
  "kernelspec": {
   "display_name": "Python 3",
   "language": "python",
   "name": "python3"
  },
  "language_info": {
   "codemirror_mode": {
    "name": "ipython",
    "version": 3
   },
   "file_extension": ".py",
   "mimetype": "text/x-python",
   "name": "python",
   "nbconvert_exporter": "python",
   "pygments_lexer": "ipython3",
   "version": "3.7.6"
  }
 },
 "nbformat": 4,
 "nbformat_minor": 1
}
